{
 "cells": [
  {
   "cell_type": "code",
   "execution_count": 1,
   "metadata": {
    "collapsed": true
   },
   "outputs": [],
   "source": [
    "import sys\n",
    "import math\n",
    "import collections as cl\n",
    "import random\n",
    "\n",
    "import numpy as np\n",
    "import pandas as pd\n",
    "import sklearn as sk\n",
    "import scipy as sp"
   ]
  },
  {
   "cell_type": "code",
   "execution_count": 4,
   "metadata": {
    "collapsed": true
   },
   "outputs": [],
   "source": [
    "### Values and Data Structures for Medical Device Data\n",
    "\n",
    "known_csv_names = [\"incomplete_sets-2016_08_30.csv\", \"incomplete_sets-2016_08_02.csv\"]\n",
    "known_data_dir=\"./data\"\n",
    "\n",
    "class ExtNumSummary():\n",
    "\n",
    "  def __init__(self, min_v, q1, median, q3, max_v, mean, stddev):\n",
    "    self.min_v=min_v\n",
    "    self.q1=q1\n",
    "    self.median=median\n",
    "    self.q3=q3\n",
    "    self.max_v=max_v\n",
    "    self.mean=mean\n",
    "    self.stddev=stddev\n",
    "\n",
    "  def iqr(self):\n",
    "    return (self.q1, self.median, self.q3)\n",
    "\n",
    "  def range_v(self):\n",
    "    return (self.min_v, self.max_v)\n",
    "\n",
    "  def mean_stddev(self):\n",
    "    return (self.mean, self.stddev)\n",
    "\n",
    "  def center(self):\n",
    "    return (self.mean, self.median)\n",
    "\n",
    "  def __str__(self):\n",
    "    return \"(%.0f, %.0f, %.0f, %.0f, %.0f) about %.4f +/- %.4f\" % \\\n",
    "    (self.min_v, self.q1, self.median, self.q3, self.max_v, self.mean, self.stddev)"
   ]
  },
  {
   "cell_type": "code",
   "execution_count": 7,
   "metadata": {
    "collapsed": true
   },
   "outputs": [],
   "source": [
    "### Parsing Excel -> csv format\n",
    "\n",
    "def s_line(line):\n",
    "  return line.strip().split(\",\")\n",
    "\n",
    "def load(filepath):\n",
    "  return [s_line(x) for x in open(filepath)]\n",
    "\n",
    "def row_len_stats(numbers):\n",
    "  if numbers is None or len(numbers) == 0:\n",
    "    raise Exception(\"numbers is either None or has empty length!\")\n",
    "\n",
    "  numbers.sort()\n",
    "  middle_index = len(numbers)/2\n",
    "\n",
    "  min_v = numbers[0]\n",
    "  max_v = numbers[-1]\n",
    "  \n",
    "  mean = sum(numbers) / float(len(numbers))\n",
    "  variance = 0.0\n",
    "  for x in numbers:\n",
    "    variance += (x - mean) ** 2\n",
    "\n",
    "  return ExtNumSummary(\n",
    "    min_v=min_v,\n",
    "    q1=numbers[middle_index/2],\n",
    "    median=numbers[middle_index],\n",
    "    q3=numbers[3 * (middle_index/2)],\n",
    "    max_v=max_v,\n",
    "    mean=mean,\n",
    "    stddev=math.sqrt(variance)\n",
    "  )"
   ]
  },
  {
   "cell_type": "code",
   "execution_count": 5,
   "metadata": {
    "collapsed": false
   },
   "outputs": [],
   "source": [
    "def print_row_length_stats():\n",
    "\n",
    "  for n in known_csv_names:\n",
    "\n",
    "    name = \"%s/%s\" % (known_data_dir, n)\n",
    "    print \"Five number summary + mean & std. deviation on %s\" % name\n",
    "\n",
    "    lines = load(name)\n",
    "    row_lengths = [len(x) for x in lines]\n",
    "\n",
    "    stats = row_len_stats(row_lengths)\n",
    "\n",
    "    bag={}\n",
    "    bag[\"in_meidan\"] = 0\n",
    "    bag[\"outside_of\"] = 0\n",
    "\n",
    "    for x in row_lengths:\n",
    "      if x == stats.median:\n",
    "        bag[\"in_meidan\"] += 1\n",
    "      else:\n",
    "        bag[\"outside_of\"] += 1     \n",
    "\n",
    "\n",
    "    print stats\n",
    "    \n",
    "    print \"\"\n",
    "\n",
    "    i = -1\n",
    "    o, looking_for = 0, bag[\"outside_of\"]\n",
    "\n",
    "    print bag\n",
    "    print \"Offending %d line(s):\" % looking_for\n",
    "    print \"\"\n",
    "\n",
    "    for l in lines:\n",
    "      i += 1\n",
    "      if len(l) != stats.median:\n",
    "        o += 1\n",
    "        print \"%d/%d | line index %d / %d | %s\" % (o, looking_for, i, len(lines), \",\".join(l))\n",
    "        print \"\"\n",
    "\n",
    "    print \"\""
   ]
  },
  {
   "cell_type": "code",
   "execution_count": 8,
   "metadata": {
    "collapsed": false
   },
   "outputs": [
    {
     "name": "stdout",
     "output_type": "stream",
     "text": [
      "Five number summary + mean & std. deviation on ./data/incomplete_sets-2016_08_30.csv\n"
     ]
    },
    {
     "ename": "IOError",
     "evalue": "[Errno 2] No such file or directory: './data/incomplete_sets-2016_08_30.csv'",
     "output_type": "error",
     "traceback": [
      "\u001b[0;31m---------------------------------------------------------------------------\u001b[0m",
      "\u001b[0;31mIOError\u001b[0m                                   Traceback (most recent call last)",
      "\u001b[0;32m<ipython-input-8-85f385061cb7>\u001b[0m in \u001b[0;36m<module>\u001b[0;34m()\u001b[0m\n\u001b[0;32m----> 1\u001b[0;31m \u001b[0mprint_row_length_stats\u001b[0m\u001b[0;34m(\u001b[0m\u001b[0;34m)\u001b[0m\u001b[0;34m\u001b[0m\u001b[0m\n\u001b[0m",
      "\u001b[0;32m<ipython-input-5-a54579a29434>\u001b[0m in \u001b[0;36mprint_row_length_stats\u001b[0;34m()\u001b[0m\n\u001b[1;32m      6\u001b[0m     \u001b[0;32mprint\u001b[0m \u001b[0;34m\"Five number summary + mean & std. deviation on %s\"\u001b[0m \u001b[0;34m%\u001b[0m \u001b[0mname\u001b[0m\u001b[0;34m\u001b[0m\u001b[0m\n\u001b[1;32m      7\u001b[0m \u001b[0;34m\u001b[0m\u001b[0m\n\u001b[0;32m----> 8\u001b[0;31m     \u001b[0mlines\u001b[0m \u001b[0;34m=\u001b[0m \u001b[0mload\u001b[0m\u001b[0;34m(\u001b[0m\u001b[0mname\u001b[0m\u001b[0;34m)\u001b[0m\u001b[0;34m\u001b[0m\u001b[0m\n\u001b[0m\u001b[1;32m      9\u001b[0m     \u001b[0mrow_lengths\u001b[0m \u001b[0;34m=\u001b[0m \u001b[0;34m[\u001b[0m\u001b[0mlen\u001b[0m\u001b[0;34m(\u001b[0m\u001b[0mx\u001b[0m\u001b[0;34m)\u001b[0m \u001b[0;32mfor\u001b[0m \u001b[0mx\u001b[0m \u001b[0;32min\u001b[0m \u001b[0mlines\u001b[0m\u001b[0;34m]\u001b[0m\u001b[0;34m\u001b[0m\u001b[0m\n\u001b[1;32m     10\u001b[0m \u001b[0;34m\u001b[0m\u001b[0m\n",
      "\u001b[0;32m<ipython-input-7-601d3ab7cc30>\u001b[0m in \u001b[0;36mload\u001b[0;34m(filepath)\u001b[0m\n\u001b[1;32m      5\u001b[0m \u001b[0;34m\u001b[0m\u001b[0m\n\u001b[1;32m      6\u001b[0m \u001b[0;32mdef\u001b[0m \u001b[0mload\u001b[0m\u001b[0;34m(\u001b[0m\u001b[0mfilepath\u001b[0m\u001b[0;34m)\u001b[0m\u001b[0;34m:\u001b[0m\u001b[0;34m\u001b[0m\u001b[0m\n\u001b[0;32m----> 7\u001b[0;31m   \u001b[0;32mreturn\u001b[0m \u001b[0;34m[\u001b[0m\u001b[0ms_line\u001b[0m\u001b[0;34m(\u001b[0m\u001b[0mx\u001b[0m\u001b[0;34m)\u001b[0m \u001b[0;32mfor\u001b[0m \u001b[0mx\u001b[0m \u001b[0;32min\u001b[0m \u001b[0mopen\u001b[0m\u001b[0;34m(\u001b[0m\u001b[0mfilepath\u001b[0m\u001b[0;34m)\u001b[0m\u001b[0;34m]\u001b[0m\u001b[0;34m\u001b[0m\u001b[0m\n\u001b[0m\u001b[1;32m      8\u001b[0m \u001b[0;34m\u001b[0m\u001b[0m\n\u001b[1;32m      9\u001b[0m \u001b[0;32mdef\u001b[0m \u001b[0mrow_len_stats\u001b[0m\u001b[0;34m(\u001b[0m\u001b[0mnumbers\u001b[0m\u001b[0;34m)\u001b[0m\u001b[0;34m:\u001b[0m\u001b[0;34m\u001b[0m\u001b[0m\n",
      "\u001b[0;31mIOError\u001b[0m: [Errno 2] No such file or directory: './data/incomplete_sets-2016_08_30.csv'"
     ]
    }
   ],
   "source": [
    "print_row_length_stats()"
   ]
  },
  {
   "cell_type": "code",
   "execution_count": null,
   "metadata": {
    "collapsed": true
   },
   "outputs": [],
   "source": []
  },
  {
   "cell_type": "code",
   "execution_count": null,
   "metadata": {
    "collapsed": true
   },
   "outputs": [],
   "source": []
  },
  {
   "cell_type": "code",
   "execution_count": null,
   "metadata": {
    "collapsed": true
   },
   "outputs": [],
   "source": []
  },
  {
   "cell_type": "code",
   "execution_count": null,
   "metadata": {
    "collapsed": true
   },
   "outputs": [],
   "source": []
  }
 ],
 "metadata": {
  "kernelspec": {
   "display_name": "Python [conda root]",
   "language": "python",
   "name": "conda-root-py"
  },
  "language_info": {
   "codemirror_mode": {
    "name": "ipython",
    "version": 2
   },
   "file_extension": ".py",
   "mimetype": "text/x-python",
   "name": "python",
   "nbconvert_exporter": "python",
   "pygments_lexer": "ipython2",
   "version": "2.7.12"
  }
 },
 "nbformat": 4,
 "nbformat_minor": 1
}
